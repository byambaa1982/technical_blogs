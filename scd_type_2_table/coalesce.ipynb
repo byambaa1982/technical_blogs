{
 "cells": [
  {
   "cell_type": "markdown",
   "id": "fbf4274c",
   "metadata": {},
   "source": [
    "# Pyspark Coalesce Function"
   ]
  },
  {
   "cell_type": "markdown",
   "id": "60d3a55a",
   "metadata": {},
   "source": [
    "```sql\n",
    "+--------------+------------+-------------+------------+\n",
    "|      username|first_choice|second_choice|third_choice|\n",
    "+--------------+------------+-------------+------------+\n",
    "|Data Logic Hub|           X|     facebook|  Instragram|\n",
    "|        User 2|        NULL|         NULL|        NULL|\n",
    "|        User 3|    facebook|         NULL|  Instragram|\n",
    "|        User 4|        NULL|            X|        NULL|\n",
    "|        User 5|        NULL|         NULL|    facebook|\n",
    "+--------------+------------+-------------+------------+\n",
    "```\n",
    "\n",
    "```python\n",
    "# Create 'Choice' column priotizing first choice\n",
    "```\n",
    "```js\n",
    "resultDF = (\n",
    "    df.withColumn(\n",
    "        \"Choice\", F.coalesce(df[\"first_choice\"], df[\"second_choice\"], df[\"third_choice\"])\n",
    "        )\n",
    "    )\n",
    "resultDF.show()\n",
    "```\n",
    "```sql\n",
    "+--------------+------------+-------------+------------+--------+\n",
    "|      username|first_choice|second_choice|third_choice|  Choice|\n",
    "+--------------+------------+-------------+------------+--------+\n",
    "|Data Logic Hub|           X|     facebook|  Instragram|       X|\n",
    "|        User 2|        NULL|         NULL|        NULL|    NULL|\n",
    "|        User 3|    facebook|         NULL|  Instragram|facebook|\n",
    "|        User 4|        NULL|            X|        NULL|       X|\n",
    "|        User 5|        NULL|         NULL|    facebook|facebook|\n",
    "+--------------+------------+-------------+------------+--------+\n",
    "\n",
    "```"
   ]
  }
 ],
 "metadata": {
  "language_info": {
   "name": "python"
  }
 },
 "nbformat": 4,
 "nbformat_minor": 5
}
